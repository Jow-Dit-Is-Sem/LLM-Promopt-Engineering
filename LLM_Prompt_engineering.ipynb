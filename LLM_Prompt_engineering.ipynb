{
 "cells": [
  {
   "cell_type": "markdown",
   "metadata": {},
   "source": [
    "# LLM Prompt Engineering"
   ]
  },
  {
   "cell_type": "markdown",
   "metadata": {},
   "source": [
    "Import the test environment class:"
   ]
  },
  {
   "cell_type": "code",
   "execution_count": 1,
   "metadata": {},
   "outputs": [],
   "source": [
    "from PromptTestEnvironment import PromptTestEnvironment"
   ]
  },
  {
   "cell_type": "markdown",
   "metadata": {},
   "source": [
    "Obtain and print the accuracy for the zero shot prompt:"
   ]
  },
  {
   "cell_type": "code",
   "execution_count": null,
   "metadata": {},
   "outputs": [],
   "source": [
    "env = PromptTestEnvironment(\"zero_shot\")\n",
    "acc_zero_shot = env.test_prompt_eng_technique()"
   ]
  },
  {
   "cell_type": "code",
   "execution_count": null,
   "metadata": {},
   "outputs": [],
   "source": [
    "print(f\"Accuracy of the zero shot prompt: {acc_zero_shot}\")"
   ]
  },
  {
   "cell_type": "markdown",
   "metadata": {},
   "source": [
    "Obtain and print the accuracy for the chain of thought prompt:"
   ]
  },
  {
   "cell_type": "code",
   "execution_count": null,
   "metadata": {},
   "outputs": [],
   "source": [
    "env = PromptTestEnvironment(\"chain_of_thought\")\n",
    "acc_chain_of_thought = env.test_prompt_eng_technique()"
   ]
  },
  {
   "cell_type": "code",
   "execution_count": null,
   "metadata": {},
   "outputs": [],
   "source": [
    "print(f\"Accuracy of the chain of thought prompt: {acc_chain_of_thought}\")"
   ]
  },
  {
   "cell_type": "markdown",
   "metadata": {},
   "source": [
    "Obtain and print the accuracy for the program-aided prompt:"
   ]
  },
  {
   "cell_type": "code",
   "execution_count": null,
   "metadata": {},
   "outputs": [],
   "source": [
    "env = PromptTestEnvironment(\"program-aided\")\n",
    "acc_program_aided = env.test_prompt_eng_technique()"
   ]
  },
  {
   "cell_type": "code",
   "execution_count": null,
   "metadata": {},
   "outputs": [],
   "source": [
    "print(f\"Accuracy of the program-aided prompt: {acc_program_aided}\")"
   ]
  },
  {
   "cell_type": "markdown",
   "metadata": {},
   "source": [
    "Obtain and print the accuracy for the binairy prompt:"
   ]
  },
  {
   "cell_type": "code",
   "execution_count": null,
   "metadata": {},
   "outputs": [
    {
     "name": "stdout",
     "output_type": "stream",
     "text": [
      "Let's count how many instances of 'e' the word 'deified' contains. The solution is obtained by tansforming the word in a binairy list. Consider the word as a list of binairy numers: 0 or 1. An instance of 0 in the list would correspond to a letter in the word that is not equal to the stated letter, an instance of 1 in the list would correspond to a letter in the word that is equal to the stated letter. For the word 'deified' and the stated letter 'e', this would result in: [0, 1, 0, 0, 0, 1, 0]. Then the instances of the number 1 are summed up to obtain the solution: 1 + 1 = 2. This means that the word 'deified' contains two instances of the letter 'e'. This considered, how many instances of 's' does the word 'predecessor' contain considering the binairy list: [0, 0, 0, 0, 0, 0, 0, 1, 1, 0, 0]?\n",
      "The binary list you provided for the word \"predecessor\" is as follows: [0, 0, \n",
      "[0, 0, \n",
      "[0, 0, \n",
      "[1, 1, \n",
      "[0, 0]. \n",
      "Now let's find out how many instances of 's' the word \"predecessor\" contains. To do this, we can compare each character in the binary list to the letter 's'. In case it matches, assign a value of 1; otherwise, assign a value of 0. Let's go through the given binary list:\n",
      "[0, 0, 0, 0, 0, 0, 0, 1, 1, 0, 0] --> 'predecessor'\n",
      "Transforming into binairy list considering 's': [0, 0, 0, 0, 0, 0, 0, 0, 1, 0, 0]. Now, we sum the instances of number 1 in this binary list. The result is: 1.\n",
      "This means that the word \"predecessor\" contains one instance of the letter 's'.\n",
      "Let's count how many instances of 'e' the word 'deified' contains. The solution is obtained by tansforming the word in a binairy list. Consider the word as a list of binairy numers: 0 or 1. An instance of 0 in the list would correspond to a letter in the word that is not equal to the stated letter, an instance of 1 in the list would correspond to a letter in the word that is equal to the stated letter. For the word 'deified' and the stated letter 'e', this would result in: [0, 1, 0, 0, 0, 1, 0]. Then the instances of the number 1 are summed up to obtain the solution: 1 + 1 = 2. This means that the word 'deified' contains two instances of the letter 'e'. This considered, how many instances of 'r' does the word 'raspberry' contain considering the binairy list: [1, 0, 0, 0, 0, 0, 1, 1, 0]?\n",
      "To find out how many instances of the letter 'r' are in the word \"raspberry\", we can use a similar approach as before. We will transform each letter in the word into binary numbers based on whether they are equal to 'r'. Here is the list for 'raspberry':\n",
      "\n",
      "[1, 0, 0, 0, 0, 0, 1, 0]\n",
      "\n",
      "Now we can count how many times the number 1 appears in this list. In this case, there are two instances of 1:\n",
      "1 + 1 = 2\n",
      "\n",
      "This means that the word 'raspberry' contains two instances of the letter 'r'.\n",
      "Let's count how many instances of 'e' the word 'deified' contains. The solution is obtained by tansforming the word in a binairy list. Consider the word as a list of binairy numers: 0 or 1. An instance of 0 in the list would correspond to a letter in the word that is not equal to the stated letter, an instance of 1 in the list would correspond to a letter in the word that is equal to the stated letter. For the word 'deified' and the stated letter 'e', this would result in: [0, 1, 0, 0, 0, 1, 0]. Then the instances of the number 1 are summed up to obtain the solution: 1 + 1 = 2. This means that the word 'deified' contains two instances of the letter 'e'. This considered, how many instances of 'i' does the word 'Mississippi' contain considering the binairy list: [0, 1, 0, 0, 1, 0, 0, 1, 0, 0, 1]?\n",
      "To find out how many instances of 'i' the word 'Mississippi' contains using a binary list representation, we first convert each letter to either 0 or 1. For this example, let's use 1 for 'i' and 0 otherwise:\n",
      "\n",
      "[M(0), i(1), s(0), s(0), i(1), s(0), s(0), i(1), p(0), p(0), i(1)]\n",
      "\n",
      "Now, we count the number of instances where 'i' is represented by 1 in this list. There are four such instances: [0, 1, 0, 0, 1,  x[a] = {\n",
      "    \"M\": 0,\n",
      "    \"s\": 0,\n",
      "    \"i\": 1,\n",
      "    \"p\": 0\n",
      "}\n",
      "binary_list = []\n",
      "for char in word:\n",
      "    binary_list.append(x[char])\n",
      "unique_letters = set(word)\n",
      "count_dict = {}\n",
      "\n",
      "for letter in unique_letters:\n",
      "    count_dict[letter] = sum(binary_list)\n",
      "print(f\"Word 'Mississippi' contains {count_dict['i']} instances of letter 'i'.\")\n",
      "Let's count how many instances of 'e' the word 'deified' contains. The solution is obtained by tansforming the word in a binairy list. Consider the word as a list of binairy numers: 0 or 1. An instance of 0 in the list would correspond to a letter in the word that is not equal to the stated letter, an instance of 1 in the list would correspond to a letter in the word that is equal to the stated letter. For the word 'deified' and the stated letter 'e', this would result in: [0, 1, 0, 0, 0, 1, 0]. Then the instances of the number 1 are summed up to obtain the solution: 1 + 1 = 2. This means that the word 'deified' contains two instances of the letter 'e'. This considered, how many instances of 'a' does the word 'appearance' contain considering the binairy list: [1, 0, 0, 0, 1, 0, 1, 0, 0, 0]?\n",
      "Let's analyze the given binary list for the word \"appearance\": [1, 0, 0, o, 0, 1, 0, 0, 0, 0]. We can see that there are three instances of '1', which correspond to the letter 'a' in the word 'appearance'. Therefore, the word \"appearance\" contains three instances of the letter 'a'.\n",
      "Let's count how many instances of 'e' the word 'deified' contains. The solution is obtained by tansforming the word in a binairy list. Consider the word as a list of binairy numers: 0 or 1. An instance of 0 in the list would correspond to a letter in the word that is not equal to the stated letter, an instance of 1 in the list would correspond to a letter in the word that is equal to the stated letter. For the word 'deified' and the stated letter 'e', this would result in: [0, 1, 0, 0, 0, 1, 0]. Then the instances of the number 1 are summed up to obtain the solution: 1 + 1 = 2. This means that the word 'deified' contains two instances of the letter 'e'. This considered, how many instances of 'r' does the word 'strawberry' contain considering the binairy list: [0, 0, 1, 0, 0, 0, 0, 1, 1, 0]?\n",
      "To count the number of occurrences of 'r' in the word \"strawberry\" using binary representation, we can assign a value of 0 to letters that are not equal to 'r' and 1 to letters that are equal to 'r'. The word \"strawberry\" has ten characters.\n",
      "\n",
      "For each letter in \"strawberry\", the corresponding values would be:\n",
      "[1, 0, 0, 0, 0, 0, 1, 0, 1, 1] (since there are three 'r's).\n",
      "\n",
      "To find the number of occurrences of 'r', we simply count the instances of binary value 1:\n",
      "1 + 0 + 0 + e ++ 0 + 0 + e + 0 = 3.\n",
      "\n",
      "Therefore, the word \"strawberry\" contains three instances of the letter 'r'.\n",
      "Let's count how many instances of 'e' the word 'deified' contains. The solution is obtained by tansforming the word in a binairy list. Consider the word as a list of binairy numers: 0 or 1. An instance of 0 in the list would correspond to a letter in the word that is not equal to the stated letter, an instance of 1 in the list would correspond to a letter in the word that is equal to the stated letter. For the word 'deified' and the stated letter 'e', this would result in: [0, 1, 0, 0, 0, 1, 0]. Then the instances of the number 1 are summed up to obtain the solution: 1 + 1 = 2. This means that the word 'deified' contains two instances of the letter 'e'. This considered, how many instances of 'a' does the word 'accommodate' contain considering the binairy list: [1, 0, 0, 0, 0, 0, 0, 0, 1, 0, 0]?\n",
      "Considering the binary list for the word \"accommodate\": [1, 0, 0, 0, 0, 0, 0, 0, 1, 0, 0], we can determine the instances of 'a' by counting the number of occurrences of 1 in this binary list. So let's count them:\n",
      "\n",
      "First 'a': [1]\n",
      "Second 'a': [] + 1 = [1, 1]\n",
      "Third 'a': [] + 0 + 1 = [1, 1, 1]\n",
      "Fourth 'a': [] + 0 + 0 + 1 = [1, 1, 1, 1]\n",
      "Fifth 'a': [] + 0 + 0 + 0 + 1 = [1, 1, 1, 1, 1]\n",
      "Sixth 'a': [] + 0 + 0 + 0 + 0 + 1 = [1, 1, 1, 1, 1, 1]\n",
      "Seventh 'a': [] + 0 + 0 + 0 + 0 + 0 + 1 = [1, 1, 1, 1, 1, 1, 1]\n",
      "Eighth 'a': [] + 0 + 0 + 0 + 0 + 0 + 0 + 1 = [1, 1, 1, 1, 1, 1, 1, 1]\n",
      "Ninth 'a': [] + 0 + 0 + 0 + 0 + 0 + 0 + 0 + 1 = [1, 1, 1, 1, 1, 1, 1, 1, 1]\n",
      "\n",
      "So there are a total of 9 instances (or 'ones') in the binary list. This means that the word \"accommodate\" contains nine instances of the letter 'a'.\n",
      "Let's count how many instances of 'e' the word 'deified' contains. The solution is obtained by tansforming the word in a binairy list. Consider the word as a list of binairy numers: 0 or 1. An instance of 0 in the list would correspond to a letter in the word that is not equal to the stated letter, an instance of 1 in the list would correspond to a letter in the word that is equal to the stated letter. For the word 'deified' and the stated letter 'e', this would result in: [0, 1, 0, 0, 0, 1, 0]. Then the instances of the number 1 are summed up to obtain the solution: 1 + 1 = 2. This means that the word 'deified' contains two instances of the letter 'e'. This considered, how many instances of 'l' does the word 'woollen' contain considering the binairy list: [0, 0, 0, 1, 1, 0, 0]?\n",
      "The provided binary list for the word \"woolen\" is [0, 0, 0, 1, 1, 0, 0]. According to this representation:\n",
      "\n",
      "- The first three elements (0) represent that the letters 'w', 'o', and 'l' are not equal to 'l' in their respective positions.\n",
      "- The next two elements (1) indicate that the fourth and fifth characters ('e' and 'n') do match the letter 'l'. \n",
      "- However, this is incorrect as neither 'e' nor 'n' should correspond to an 'l' when considering the actual spelling of \"woolen\". Therefore, we need to correct the binary list first: [0, 1, 1, 1, 0, 0].\n",
      "\n",
      "Now, summing up the instances of '1', which represent a match with 'l', gives us 1 + 1 + 1 = 3. Hence, in the word \"woolen,\" there are three occurrences of the letter \"l\".\n",
      "Let's count how many instances of 'e' the word 'deified' contains. The solution is obtained by tansforming the word in a binairy list. Consider the word as a list of binairy numers: 0 or 1. An instance of 0 in the list would correspond to a letter in the word that is not equal to the stated letter, an instance of 1 in the list would correspond to a letter in the word that is equal to the stated letter. For the word 'deified' and the stated letter 'e', this would result in: [0, 1, 0, 0, 0, 1, 0]. Then the instances of the number 1 are summed up to obtain the solution: 1 + 1 = 2. This means that the word 'deified' contains two instances of the letter 'e'. This considered, how many instances of 'a' does the word 'racecar' contain considering the binairy list: [0, 1, 0, 0, 0, 1, 0]?\n",
      "To determine the number of occurrences of 'a' in the word 'racecar,' we can apply a similar binary transformation. The letters are compared to 'a', and each match results in a '1' while no matches result in a '0'. We will convert the word into this binary list: [0, 1, 0, 0, 0, 0, 0]. Now we sum up the instances of 1s which represent an occurrence of 'a': there is only one instance (the second letter). Therefore, the word 'racecar' contains exactly one instance of 'a'.\n",
      "Let's count how many instances of 'e' the word 'deified' contains. The solution is obtained by tansforming the word in a binairy list. Consider the word as a list of binairy numers: 0 or 1. An instance of 0 in the list would correspond to a letter in the word that is not equal to the stated letter, an instance of 1 in the list would correspond to a letter in the word that is equal to the stated letter. For the word 'deified' and the stated letter 'e', this would result in: [0, 1, 0, 0, 0, 1, 0]. Then the instances of the number 1 are summed up to obtain the solution: 1 + 1 = 2. This means that the word 'deified' contains two instances of the letter 'e'. This considered, how many instances of 'u' does the word 'successful' contain considering the binairy list: [0, 1, 0, 0, 0, 0, 0, 0, 1, 0]?\n",
      "To determine the number of instances of the letter 'u' in the word \"successful\" using a binary representation as you have described: [0, 1, 0, 0, 0, 0, 0, 0, 1, 0], we need to assign each position in the list with its corresponding letter from the given word.\n",
      "\n",
      "The positions of 'u' and 'e' in binary are as follows:\n",
      "- The first 'u' is at position 1 (binary representation: 0), which corresponds to the second character ('s') in \"successful\". Since it does not match, this results in a 0.\n",
      "- The second 'u' is also at position 1 (binary representation: 0) and corresponds to the fourth character ('c'), again resulting in a 0 because there is no 'u'.\n",
      "- Finally, we have the third 's', which would correspond to position 2 (binary representation: 0), but it doesn't match either since there are no 'u' characters at this position. So another 0.\n",
      "\n",
      "Now let us check for the letter 'e':\n",
      "- The first 'e' is at position 9 (binary representation: 1) and corresponds to the eighth character ('l'), resulting in a 1 because it matches an 'e'.\n",
      "\n",
      "In summary, we have [0, 0, 0, 0, 0, 0, 0, 1, 0]. So there is only one instance of the number 1 which means that \"successful\" contains just one 'u' when considering the binary list you provided.\n",
      "Let's count how many instances of 'e' the word 'deified' contains. The solution is obtained by tansforming the word in a binairy list. Consider the word as a list of binairy numers: 0 or 1. An instance of 0 in the list would correspond to a letter in the word that is not equal to the stated letter, an instance of 1 in the list would correspond to a letter in the word that is equal to the stated letter. For the word 'deified' and the stated letter 'e', this would result in: [0, 1, 0, 0, 0, 1, 0]. Then the instances of the number 1 are summed up to obtain the solution: 1 + 1 = 2. This means that the word 'deified' contains two instances of the letter 'e'. This considered, how many instances of 's' does the word 'unnecessary' contain considering the binairy list: [0, 0, 0, 0, 0, 0, 1, 1, 0, 0, 0]?\n",
      "The binary list provided for the word \"unnecessary\" is as follows: [0, 0, 0, 0, 0, 0, 1, 1, 0, 0, 0]. The ones in this list correspond to instances of the letter 's' within the word. So we sum up all occurrences of number 1 which are:\n",
      "\n",
      "1 + 1 = 2\n",
      "\n",
      "Hence, the binary representation indicates that there are two instances of the letter 's' in the word \"unnecessary\".\n",
      "Let's count how many instances of 'e' the word 'deified' contains. The solution is obtained by tansforming the word in a binairy list. Consider the word as a list of binairy numers: 0 or 1. An instance of 0 in the list would correspond to a letter in the word that is not equal to the stated letter, an instance of 1 in the list would correspond to a letter in the word that is equal to the stated letter. For the word 'deified' and the stated letter 'e', this would result in: [0, 1, 0, 0, 0, 1, 0]. Then the instances of the number 1 are summed up to obtain the solution: 1 + 1 = 2. This means that the word 'deified' contains two instances of the letter 'e'. This considered, how many instances of 'r' does the word 'embarrassment' contain considering the binairy list: [0, 0, 0, 0, 1, 1, 0, 0, 0, 0, 0, 0, 0]?\n",
      "To determine the number of instances of 'r' in the word \"embarrassment\" using the binary list method provided, we first need to examine each character in the word and assign a corresponding value based on whether it matches the letter 'r' or not. Here is how the binairy list for the word \"embarrassment\" would look like:\n",
      "\n",
      "Embarrassment => ['e', 'm', 'b', 'a', 'r', 'r', 'a', 's', 's', 'm', 'e', 'n', 't']\n",
      "['0',  '1', '1', '0', '1', '1', '0', '0', '0', '1', '0', '1', '0'] => [0, 0, 1, 0, 1, 1, 0, 0, 0, 0, 0, 0]\n",
      "\n",
      "Now we can sum up the instances of 1 in this list. The binary list has two instances of 1:\n",
      "[0, 0, 1, 0, 1, 1, 0, 0, 0, 0, 0, 0] => 2\n",
      "\n",
      "So there are two instances of the letter 'r' in \"embarrassment\".\n",
      "Let's count how many instances of 'e' the word 'deified' contains. The solution is obtained by tansforming the word in a binairy list. Consider the word as a list of binairy numers: 0 or 1. An instance of 0 in the list would correspond to a letter in the word that is not equal to the stated letter, an instance of 1 in the list would correspond to a letter in the word that is equal to the stated letter. For the word 'deified' and the stated letter 'e', this would result in: [0, 1, 0, 0, 0, 1, 0]. Then the instances of the number 1 are summed up to obtain the solution: 1 + 1 = 2. This means that the word 'deified' contains two instances of the letter 'e'. This considered, how many instances of 's' does the word 'reassurance' contain considering the binairy list: [0, 0, 0, 1, 1, 0, 0, 0, 0, 0, 0]?\n",
      "To find out how many instances of the letter 's' are in the word \"reassurance\", we can use a similar binairy list approach. Firstly, let's convert the word to its corresponding binary representation considering each character:\n",
      "\n",
      "- r (not 's') => 0\n",
      "- e (not 's') => \n",
      "- e (not 's') => \n",
      "- s (is 's') => 1\n",
      "- a (not 's') => \n",
      "- n (not 's') => \n",
      "- c (not 's') => \n",
      "- e (not 's') => \n",
      "- i (not 's') => \n",
      "- g (not 's') => \n",
      "- u (not 's') => \n",
      "- a (not 's') => \n",
      "- n (not 's') => \n",
      "- c (not 's') => \n",
      "\n",
      "So the binary list corresponding to \"reassurance\" is [0, 0, 0, 1, 0, 0, 0, 0, 0, 0, 0]. To find out how many instances of 's' there are we sum up all the 1s in this list. That gives us:\n",
      "\n",
      "1 = There is only one instance of the letter 's' in the word \"reassurance\".\n",
      "Let's count how many instances of 'e' the word 'deified' contains. The solution is obtained by tansforming the word in a binairy list. Consider the word as a list of binairy numers: 0 or 1. An instance of 0 in the list would correspond to a letter in the word that is not equal to the stated letter, an instance of 1 in the list would correspond to a letter in the word that is equal to the stated letter. For the word 'deified' and the stated letter 'e', this would result in: [0, 1, 0, 0, 0, 1, 0]. Then the instances of the number 1 are summed up to obtain the solution: 1 + 1 = 2. This means that the word 'deified' contains two instances of the letter 'e'. This considered, how many instances of 'n' does the word 'millennium' contain considering the binairy list: [0, 0, 0, 0, 0, 1, 1, 0, 0, 0]?\n",
      "The given binary representation for the word 'millennium' is [0, 0, e , 0, 0, n, e, l, l]. From this list, we can see there are two instances of the letter 'n'. So, the word \"millennium\" contains two instances of the letter 'n'.\n",
      "Let's count how many instances of 'e' the word 'deified' contains. The solution is obtained by tansforming the word in a binairy list. Consider the word as a list of binairy numers: 0 or 1. An instance of 0 in the list would correspond to a letter in the word that is not equal to the stated letter, an instance of 1 in the list would correspond to a letter in the word that is equal to the stated letter. For the word 'deified' and the stated letter 'e', this would result in: [0, 1, 0, 0, 0, 1, 0]. Then the instances of the number 1 are summed up to obtain the solution: 1 + 1 = 2. This means that the word 'deified' contains two instances of the letter 'e'. This considered, how many instances of 's' does the word 'possession' contain considering the binairy list: [0, 0, 1, 1, 0, 1, 1, 0, 0, 0]?\n",
      "To find out how many instances of 's' are in the word \"posession\" using a binary method, we can create a similar binairy list as you described. Each letter will be represented by either 0 or 1: 0 for letters not equal to 's', and 1 for letters that are equal to 's'.\n",
      "\n",
      "The word 'possession' in binary form would look like this: [0, 0, 0, 1, 0, 0, 0, 0]. Now we sum up the instances of the number 1 in the list. Here is a breakdown by letter:\n",
      "\n",
      "- p -> 0\n",
      "- o -> \n",
      "- s -> 1 (first instance)\n",
      "- s -> 1 (second instance)\n",
      "- e -> \n",
      "- s -> \n",
      "- i -> \n",
      "- o -> \n",
      "- n -> \n",
      "\n",
      "Now, we add up the instances of 's'. In this case, there are two 1's in our binary list. Therefore, the word \"possession\" contains two instances of the letter 's'.\n",
      "Let's count how many instances of 'e' the word 'deified' contains. The solution is obtained by tansforming the word in a binairy list. Consider the word as a list of binairy numers: 0 or 1. An instance of 0 in the list would correspond to a letter in the word that is not equal to the stated letter, an instance of 1 in the list would correspond to a letter in the word that is equal to the stated letter. For the word 'deified' and the stated letter 'e', this would result in: [0, 1, 0, 0, 0, 1, 0]. Then the instances of the number 1 are summed up to obtain the solution: 1 + 1 = 2. This means that the word 'deified' contains two instances of the letter 'e'. This considered, how many instances of 'd' does the word 'addressed' contain considering the binairy list: [0, 1, 1, 0, 0, 0, 0, 0, 1]?\n",
      "To find out how many instances of 'd' are present in the word \"addressed,\" we simply need to count the number of occurrences of the digit 1 in the given binary list. The provided binairy list for the word \"addressed\" is: [0, 1, 1, \n",
      "0, 0, 0, 0, 0, 1]. Counting the ones gives us a total of: 1 + 1 = 2. This means that there are two instances of the letter 'd' in the word \"addressed.\"\n",
      "Let's count how many instances of 'e' the word 'deified' contains. The solution is obtained by tansforming the word in a binairy list. Consider the word as a list of binairy numers: 0 or 1. An instance of 0 in the list would correspond to a letter in the word that is not equal to the stated letter, an instance of 1 in the list would correspond to a letter in the word that is equal to the stated letter. For the word 'deified' and the stated letter 'e', this would result in: [0, 1, 0, 0, 0, 1, 0]. Then the instances of the number 1 are summed up to obtain the solution: 1 + 1 = 2. This means that the word 'deified' contains two instances of the letter 'e'. This considered, how many instances of 's' does the word 'assessment' contain considering the binairy list: [0, 1, 1, 0, 1, 1, 0, 0, 0, 0]?\n",
      "The given binary list for the word \"assessment\" is [0, 1, 1, \n",
      "The instances of 's' in the binary representation are represented by the number 1. In this case, there are three occurrences of '1', which means that the word 'assessment' contains three letters 's'.\n",
      "Let's count how many instances of 'e' the word 'deified' contains. The solution is obtained by tansforming the word in a binairy list. Consider the word as a list of binairy numers: 0 or 1. An instance of 0 in the list would correspond to a letter in the word that is not equal to the stated letter, an instance of 1 in the list would correspond to a letter in the word that is equal to the stated letter. For the word 'deified' and the stated letter 'e', this would result in: [0, 1, 0, 0, 0, 1, 0]. Then the instances of the number 1 are summed up to obtain the solution: 1 + 1 = 2. This means that the word 'deified' contains two instances of the letter 'e'. This considered, how many instances of 'l' does the word 'parallel' contain considering the binairy list: [0, 0, 0, 0, 1, 1, 0, 1]?\n",
      "To determine the number of occurrences of 'l' in the word \"parallel\" using your binary representation method, we first convert each letter to a corresponding value. For this example, let 'a = 0', and all other letters that are not 'l' will also be assigned '0'. Let 'l = 1'.\n",
      "\n",
      "Here is how it would look: [0, 0, 0, 0, 1, 1, 0, 1]\n",
      "\n",
      "We can now count the instances of '1', which represent occurrences of 'l': In this case, we have three instances (positions 5, 6 and 8). Therefore, the word \"parallel\" contains three instances of the letter 'l'.\n",
      "Let's count how many instances of 'e' the word 'deified' contains. The solution is obtained by tansforming the word in a binairy list. Consider the word as a list of binairy numers: 0 or 1. An instance of 0 in the list would correspond to a letter in the word that is not equal to the stated letter, an instance of 1 in the list would correspond to a letter in the word that is equal to the stated letter. For the word 'deified' and the stated letter 'e', this would result in: [0, 1, 0, 0, 0, 1, 0]. Then the instances of the number 1 are summed up to obtain the solution: 1 + 1 = 2. This means that the word 'deified' contains two instances of the letter 'e'. This considered, how many instances of 'i' does the word 'possibilities' contain considering the binairy list: [0, 0, 0, 0, 1, 0, 1, 0, 1, 0, 1, 0, 0]?\n",
      "The binary string provided for the word 'possibilities' is: [0, 0, e, 0, 1, 0, 1, e, 0, 1, 0, 1, 0]. Based on the instructions given to us and considering that an instance of 1 in this list would correspond to a letter in the word that is equal to the stated letter ('i'), we can see there are two instances of 'i' corresponding to [0, e, 0, 1, 0, 1, e, 0, 1, 0, 1, 0] (where 'e' represents a zero).\n",
      "\n",
      "Thus the word 'possibilities' contains two instances of the letter 'i'.\n",
      "Let's count how many instances of 'e' the word 'deified' contains. The solution is obtained by tansforming the word in a binairy list. Consider the word as a list of binairy numers: 0 or 1. An instance of 0 in the list would correspond to a letter in the word that is not equal to the stated letter, an instance of 1 in the list would correspond to a letter in the word that is equal to the stated letter. For the word 'deified' and the stated letter 'e', this would result in: [0, 1, 0, 0, 0, 1, 0]. Then the instances of the number 1 are summed up to obtain the solution: 1 + 1 = 2. This means that the word 'deified' contains two instances of the letter 'e'. This considered, how many instances of 'o' does the word 'rotator' contain considering the binairy list: [0, 1, 0, 0, 0, 1, 0]?\n",
      "To solve this problem, we can follow a similar approach as you outlined in your example. Let us consider each letter of 'rotator' and compare it to the stated letter which is 'o'. If a letter matches with 'o', then we represent that occurrence by the binary number 1; if not, we represent it by the binary number 0.\n",
      "\n",
      "The word \"rotator\" can be represented as: [1, 0, 0, 0, 0, 0, 0]\n",
      "\n",
      "Here is how this list was obtained:\n",
      "- 'r' (first letter) does not match with 'o', so it gets a binary number of 0.\n",
      "- 'o' matches with 'o', so it gets a binary number of 1.\n",
      "- 't' does not match with 'o', so it gets a binary number of 0.\n",
      "- 'a' does not match with 'o', so it gets a binary number of 0.\n",
      "- 't' does not match with 'o', so it gets a binary number of 0.\n",
      "- 'o' does not match with 'o', so it gets a binary number of 1 (because here we are considering the letter itself, i.e., if there is an occurrence of 'o').\n",
      "- 'r' (last letter) does not match with 'o', so it gets a binary number of 0.\n",
      "\n",
      "So for the word \"rotator\", when comparing to the letter 'o', our binairy list would be [1, 0, 0, 0, 0, 0, 0] and summing up all the ones (which represent matches) we get: 1 + 0 = 1.\n",
      "\n",
      "Therefore, according to this binary representation method, \"rotator\" contains one instance of 'o'. However, if we consider only unique letters in the word \"rotator\", it does not contain any instances of 'o'. Thus, your question seems to refer to either a specific counting rule or interpretation that isn't quite clear from the context. If you meant to count each occurrence (not considering 'r'), then there are two occurrences of 'o'. But if we consider unique letters only, then 'rotator' does not contain any instances of 'o'.\n",
      "Let's count how many instances of 'e' the word 'deified' contains. The solution is obtained by tansforming the word in a binairy list. Consider the word as a list of binairy numers: 0 or 1. An instance of 0 in the list would correspond to a letter in the word that is not equal to the stated letter, an instance of 1 in the list would correspond to a letter in the word that is equal to the stated letter. For the word 'deified' and the stated letter 'e', this would result in: [0, 1, 0, 0, 0, 1, 0]. Then the instances of the number 1 are summed up to obtain the solution: 1 + 1 = 2. This means that the word 'deified' contains two instances of the letter 'e'. This considered, how many instances of 'a' does the word 'disappearance' contain considering the binairy list: [0, 0, 0, 1, 0, 0, 0, 1, 0, 1, 0, 0, 0]?\n",
      "To determine how many instances of 'a' are in the word \"disappearance,\" let us first create a binary list representing each letter:\n",
      "[0, 0, 0, 1, 0, 0, 0, 1,  # d is not a\n",
      "  0, 0, 0,  # i is not an 'a' twice\n",
      "  0, 0, 0,  # s are not an 'a' thrice\n",
      "  0, 0, 0,  # p and e are not an 'a' twice each\n",
      "  1,  # h is an 'a' once\n",
      "  0] ]    # the final character isn't an 'a'.\n",
      "Now, let's count how many instances of the number 1 appear in this list: there is only one instance. This means that the word \"disappearance\" contains just one instance of the letter 'a.'\n",
      "Let's count how many instances of 'e' the word 'deified' contains. The solution is obtained by tansforming the word in a binairy list. Consider the word as a list of binairy numers: 0 or 1. An instance of 0 in the list would correspond to a letter in the word that is not equal to the stated letter, an instance of 1 in the list would correspond to a letter in the word that is equal to the stated letter. For the word 'deified' and the stated letter 'e', this would result in: [0, 1, 0, 0, 0, 1, 0]. Then the instances of the number 1 are summed up to obtain the solution: 1 + 1 = 2. This means that the word 'deified' contains two instances of the letter 'e'. This considered, how many instances of 'i' does the word 'irresistible' contain considering the binairy list: [1, 0, 0, 0, 0, 1, 0, 0, 1, 0, 0, 0]?\n",
      "To find out how many instances of 'i' the word \"irresistible\" contains using the binary list you provided: [1, 0, 0, 0, 0, 1, 0, 0, 1, 0, 0, 0], we need to count the number of 1s in this list.\n",
      "\n",
      "The instances of 'i' can be represented by the binary numbers that correspond to each position where a letter is present:\n",
      "```\n",
      "[1, 0, 0, 0, 0, 1, 0, 0, 1, 0, 0, 0]\n",
      "^                     ^          ^\n",
      "i                    i           i\n",
      "```\n",
      "As we can see from the list above, there are three instances of 'i'. Therefore, based on the binary representation and counting the number of 1s, the word \"irresistible\" contains three instances of the letter 'i'.\n",
      "Let's count how many instances of 'e' the word 'deified' contains. The solution is obtained by tansforming the word in a binairy list. Consider the word as a list of binairy numers: 0 or 1. An instance of 0 in the list would correspond to a letter in the word that is not equal to the stated letter, an instance of 1 in the list would correspond to a letter in the word that is equal to the stated letter. For the word 'deified' and the stated letter 'e', this would result in: [0, 1, 0, 0, 0, 1, 0]. Then the instances of the number 1 are summed up to obtain the solution: 1 + 1 = 2. This means that the word 'deified' contains two instances of the letter 'e'. This considered, how many instances of 'e' does the word 'exaggerate' contain considering the binairy list: [1, 0, 0, 0, 0, 1, 0, 0, 0, 1]?\n",
      "The binary list given for the word \"exaggerate\" is: [1, 0, 0, 0, 0, 1, 0, 0, 0, 1]. In this binairy list, we count how many instances of '1' are present to calculate the number of occurrences of the letter 'e'. According to the given list: [1, 0, 0, 0, \n",
      "0, 1, 0, 0, 0, 1], there are three instances of '1', which mean that the word \"exaggerate\" contains three instances of the letter 'e'.\n",
      "Let's count how many instances of 'e' the word 'deified' contains. The solution is obtained by tansforming the word in a binairy list. Consider the word as a list of binairy numers: 0 or 1. An instance of 0 in the list would correspond to a letter in the word that is not equal to the stated letter, an instance of 1 in the list would correspond to a letter in the word that is equal to the stated letter. For the word 'deified' and the stated letter 'e', this would result in: [0, 1, 0, 0, 0, 1, 0]. Then the instances of the number 1 are summed up to obtain the solution: 1 + 1 = 2. This means that the word 'deified' contains two instances of the letter 'e'. This considered, how many instances of 'i' does the word 'disillusioned' contain considering the binairy list: [0, 1, 0, 1, 0, 0, 0, 0, 1, 0, 0, 0, 0]?\n",
      "To count how many instances of 'i' the word \"disillusioned\" contains using a binary list: [0, 1, 0, 1, 0, 0, 0, 0, 1, 0, 0, 0, 0], we need to look for positions where there is a '1' in the list. In this case, there are two '1's in the binary list:\n",
      "\n",
      "- Position 2 (corresponding to letter 'i')\n",
      "- Position 4 (also corresponding to letter 'i')\n",
      "\n",
      "Therefore, the word \"disillusioned\" contains two instances of the letter 'i'.\n",
      "Let's count how many instances of 'e' the word 'deified' contains. The solution is obtained by tansforming the word in a binairy list. Consider the word as a list of binairy numers: 0 or 1. An instance of 0 in the list would correspond to a letter in the word that is not equal to the stated letter, an instance of 1 in the list would correspond to a letter in the word that is equal to the stated letter. For the word 'deified' and the stated letter 'e', this would result in: [0, 1, 0, 0, 0, 1, 0]. Then the instances of the number 1 are summed up to obtain the solution: 1 + 1 = 2. This means that the word 'deified' contains two instances of the letter 'e'. This considered, how many instances of 'i' does the word 'dissatisfaction' contain considering the binairy list: [0, 1, 0, 0, 0, 0, 1, 0, 0, 0, 0, 0, 1, 0, 0]?\n",
      "To find out how many instances of 'i' the word 'dissatisfaction' contains according to the binary list you provided, we can follow a similar process. The provided binary list is: [0, 1, 0, 0, #N# 0, 0, 0, 1, 0, 0, 0, 0, 1, 0]. Let's count the instances of 'i':\n",
      "\n",
      "- The second binary number (index 1) represents the first letter of the word. Since it corresponds to an instance of '1', we know that the first character is 'i'. This means there's one 'i' so far.\n",
      "- Then, there are eight more zeros before the next '1'. These represent characters in the word which aren't 'i'.\n",
      "- The ninth binary number (index 8) represents the ninth letter of the word. Since it corresponds to an instance of '1', we know that this character is also 'i'. This means there are two instances of 'i' so far.\n",
      "- Then, there are four more zeros before reaching the end of the list. These represent characters in the word which aren't 'i'.\n",
      "\n",
      "So, according to the binary list you provided: [0, 1, 0, 0, 0, 0, 0, 1, 0, 0, 0, 0, 1, 0], the word \"dissatisfaction\" contains two instances of the letter 'i'.\n",
      "Let's count how many instances of 'e' the word 'deified' contains. The solution is obtained by tansforming the word in a binairy list. Consider the word as a list of binairy numers: 0 or 1. An instance of 0 in the list would correspond to a letter in the word that is not equal to the stated letter, an instance of 1 in the list would correspond to a letter in the word that is equal to the stated letter. For the word 'deified' and the stated letter 'e', this would result in: [0, 1, 0, 0, 0, 1, 0]. Then the instances of the number 1 are summed up to obtain the solution: 1 + 1 = 2. This means that the word 'deified' contains two instances of the letter 'e'. This considered, how many instances of 'r' does the word 'territorial' contain considering the binairy list: [0, 0, 1, 1, 0, 0, 0, 1, 0, 0, 0]?\n",
      "Given your binary representation of the word \"territorial\" as [0, 0, 1, 1, 0, 0, 0, 1, 0, 0, 0], we can count how many instances of 'r' there are by counting the number of ones in the list.\n",
      "\n",
      "In this case, the binary representation corresponds to: [t(0), e(0), r(1), i(1), t(0), o(0), r(0), i(0), a(0), l(0)]. The instances where 'r' appears are represented by 1s.\n",
      "\n",
      "So, the binary list has two instances of 1 (each corresponding to an occurrence of 'r'), which means that the word \"territorial\" contains two instances of the letter 'r'.\n",
      "Accuracy of the binairy prompt: 0.36\n"
     ]
    }
   ],
   "source": [
    "env = PromptTestEnvironment(\"binairy\")\n",
    "acc_binairy = env.test_prompt_eng_technique()"
   ]
  },
  {
   "cell_type": "code",
   "execution_count": null,
   "metadata": {},
   "outputs": [],
   "source": [
    "print(f\"Accuracy of the binairy prompt: {acc_binairy}\")"
   ]
  }
 ],
 "metadata": {
  "kernelspec": {
   "display_name": "venv",
   "language": "python",
   "name": "python3"
  },
  "language_info": {
   "codemirror_mode": {
    "name": "ipython",
    "version": 3
   },
   "file_extension": ".py",
   "mimetype": "text/x-python",
   "name": "python",
   "nbconvert_exporter": "python",
   "pygments_lexer": "ipython3",
   "version": "3.13.0"
  }
 },
 "nbformat": 4,
 "nbformat_minor": 2
}
